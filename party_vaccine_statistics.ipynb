{
 "metadata": {
  "language_info": {
   "codemirror_mode": {
    "name": "ipython",
    "version": 3
   },
   "file_extension": ".py",
   "mimetype": "text/x-python",
   "name": "python",
   "nbconvert_exporter": "python",
   "pygments_lexer": "ipython3",
   "version": "3.7.9"
  },
  "orig_nbformat": 4,
  "kernelspec": {
   "name": "python3",
   "display_name": "Python 3.7.9 64-bit ('tf-gpu': conda)"
  },
  "interpreter": {
   "hash": "1791c75589c977c57904ee6c0eebdeb0582d03aae81150f7a61dd3ccd568d943"
  }
 },
 "nbformat": 4,
 "nbformat_minor": 2,
 "cells": [
  {
   "cell_type": "code",
   "execution_count": 1,
   "metadata": {},
   "outputs": [],
   "source": [
    "import requests\n",
    "import pandas\n",
    "import json\n",
    "import matplotlib.pyplot as plt\n",
    "from scipy.stats import linregress\n",
    "\n",
    "%matplotlib tk\n",
    "\n",
    "vac_data_url = \"https://raw.githubusercontent.com/owid/covid-19-data/master/public/data/vaccinations/us_state_vaccinations.csv\"\n",
    "party_data_path = \"affiliation.csv\""
   ]
  },
  {
   "cell_type": "code",
   "execution_count": 2,
   "metadata": {},
   "outputs": [],
   "source": [
    "vac_data = pandas.read_csv(vac_data_url) # load vaccine data\n",
    "most_recent_date = vac_data.loc[vac_data['location'] == 'Alabama']['date'].iloc[-1] # get current date (last entry for any state)\n",
    "vac_data = vac_data.loc[vac_data['date'] == most_recent_date].reset_index()"
   ]
  },
  {
   "cell_type": "code",
   "execution_count": 3,
   "metadata": {},
   "outputs": [],
   "source": [
    "states = [\"Alabama\",\"Alaska\",\"Arizona\",\"Arkansas\",\"California\",\"Colorado\", \"Connecticut\",\"Delaware\",\"Florida\",\"Georgia\",\"Hawaii\",\"Idaho\",\"Illinois\", \"Indiana\",\"Iowa\",\"Kansas\",\"Kentucky\",\"Louisiana\",\"Maine\",\"Maryland\", \"Massachusetts\",\"Michigan\",\"Minnesota\",\"Mississippi\",\"Missouri\",\"Montana\", \"Nebraska\",\"Nevada\",\"New Hampshire\",\"New Jersey\",\"New Mexico\",\"New York\", \"North Carolina\",\"North Dakota\",\"Ohio\",\"Oklahoma\",\"Oregon\",\"Pennsylvania\", \"Rhode Island\",\"South Carolina\",\"South Dakota\",\"Tennessee\",\"Texas\",\"Utah\", \"Vermont\",\"Virginia\",\"Washington\",\"West Virginia\",\"Wisconsin\",\"Wyoming\"]\n",
    "vac_data.loc[vac_data['location'] == 'New York State', 'location'] = 'New York' # fix location being called 'New York State' in vaccine data set\n",
    "vac_data = vac_data.loc[vac_data['location'].isin(states)]"
   ]
  },
  {
   "cell_type": "code",
   "execution_count": 4,
   "metadata": {},
   "outputs": [],
   "source": [
    "party_data = pandas.read_csv(party_data_path)"
   ]
  },
  {
   "cell_type": "code",
   "execution_count": 5,
   "metadata": {},
   "outputs": [],
   "source": [
    "vac_data['party'] = vac_data['location'].map(lambda state: party_data.loc[party_data['State'] == state]['Classification'].values[0]) # add party classification\n",
    "vac_data['dem_advantage'] = vac_data['location'].map(lambda state: party_data.loc[party_data['State'] == state]['Dem Advantage'].values[0]) # add party affiliation\n",
    "vac_data.sort_values(by='people_vaccinated_per_hundred', inplace=True, ignore_index=True)"
   ]
  },
  {
   "cell_type": "code",
   "execution_count": 6,
   "metadata": {},
   "outputs": [],
   "source": [
    "# matplotlib visualization\n",
    "colors = {\n",
    "    'Solid Rep': \"#de0100\",\n",
    "    'Lean Rep': \"#ff8080\",\n",
    "    'Competitive': \"#444444\",\n",
    "    'Lean Dem': \"#8d83fb\",\n",
    "    'Solid Dem': \"#1405BD\"\n",
    "}\n",
    "\n",
    "xs = vac_data[\"dem_advantage\"]\n",
    "ys = vac_data['people_vaccinated_per_hundred']\n",
    "plt.scatter(xs, ys, c=vac_data['party'].map(lambda p : colors[p]), s=100)\n",
    "\n",
    "m, b, r, p, stderror = linregress(vac_data[\"dem_advantage\"], vac_data['people_vaccinated_per_hundred'])\n",
    "plt.plot(xs, [(m * x) + b for x in xs])\n",
    "\n",
    "plt.show()"
   ]
  },
  {
   "cell_type": "code",
   "execution_count": 43,
   "metadata": {},
   "outputs": [],
   "source": [
    "vac_data.to_csv(\"vac_data.csv\") # export data for better visualizations"
   ]
  }
 ]
}